{
 "cells": [
  {
   "cell_type": "markdown",
   "metadata": {},
   "source": [
    "### Problem Statement: \n",
    "Scrap websites and automate extraction and processing of baby names according to numerology rules to find valid baby names as per the given birth number. \n",
    "\n",
    "Skills expected to be learnt:\n",
    "> 1) Better understanding of lists, dictionaries usages along with associated methods\n",
    "\n",
    "> 2) Better understanding of for and while loops along with conditional statements\n",
    "\n",
    "> 3) Basic understanding of libraries like requests, bs4, re\n",
    "\n",
    "> 4) Webscraping basics, text manipulation basics, basic file i/o\n"
   ]
  },
  {
   "cell_type": "code",
   "execution_count": 7,
   "metadata": {},
   "outputs": [],
   "source": [
    "#importing required libraries\n",
    "\n",
    "#Requests will allow you to send HTTP/1.1 requests using Python\n",
    "import requests\n",
    "\n",
    "#Beautiful Soup helps us to pull data out of HTML data\n",
    "from bs4 import BeautifulSoup\n",
    "\n",
    "#re is a powerful text manipulation library; abbrevated as regular expression\n",
    "import re"
   ]
  },
  {
   "cell_type": "code",
   "execution_count": 8,
   "metadata": {},
   "outputs": [],
   "source": [
    "#website that has the baby names\n",
    "URL = 'https://www.babycenter.in/a25010193/modern-indian-baby-names'\n",
    "\n",
    "#why have we defined HTTP headers? Some websites look to get some information about the people that access their site; those information can be colllected from either cookies or preliminarily from headers; to know more: https://en.wikipedia.org/wiki/List_of_HTTP_header_fields\n",
    "headers = {'User-Agent': 'Mozilla/5.0 (Macintosh; Intel Mac OS X 10_11_6) AppleWebKit/537.36 (KHTML, like Gecko) Chrome/61.0.3163.100 Safari/537.36'}"
   ]
  },
  {
   "cell_type": "code",
   "execution_count": 9,
   "metadata": {},
   "outputs": [
    {
     "name": "stdout",
     "output_type": "stream",
     "text": [
      "<Response [200]>\n"
     ]
    }
   ],
   "source": [
    "#we are requesting the webpage (URL) using the defined headers\n",
    "\n",
    "page = requests.get(URL, headers=headers)\n",
    "\n",
    "#printing page must return status code 200 if the request was a success; 404 if the request was failure; use page.content to view bytes data\n",
    "#With this soup object, you can navigate and search through the HTML for data that you want. \n",
    "#For example, if you run soup.title after the previous code in a Python shell you'll get the title of the web page. If you run print(soup.get_text()), you will see all of the text on the page\n",
    "\n",
    "soup = str(BeautifulSoup(page.content, 'html.parser'))\n",
    "\n",
    "#here its easier for me to identify patters in HTML data, so we're not extracting text from HTML, but rather using it to our advantage; We use re.findall()\n",
    "#we use re.findall() to find all the text inbetween any given text pattern\n",
    "#here our required text lies inbetween <a href=\"/babyname/  and  </a>\n",
    "\n",
    "patt = \"<a href=\\\"/babyname/(.*?)</a>\"\n",
    "reout = re.findall(patt,soup)\n"
   ]
  },
  {
   "cell_type": "code",
   "execution_count": 4,
   "metadata": {},
   "outputs": [],
   "source": [
    "#defining a function findnum(ch) that accepts one mandatory argument\n",
    "\n",
    "def findnum(ch):\n",
    "    \n",
    "    #dictionary with lists of alphabets assigned to keywords\n",
    "    \n",
    "    dict1 = {1:['a', 'j', 's'],2:['b', 'k', 't'],3:['c', 'l', 'u'],4:['d', 'm', 'v'],5:['e', 'n', 'w'],6:['f', 'o', 'x'],7:['g', 'p', 'y'],8:['h', 'q', 'z'],9:['i','r']}\n",
    "\n",
    "    #using the dict.keys() and dict.values() methods to get two lists made out of the key values and element values of dict1\n",
    "    \n",
    "    key_list = list(dict1.keys()) \n",
    "    val_list = list(dict1.values())\n",
    "\n",
    "    #finding which key is my element ch assigned to\n",
    "    \n",
    "    for i in range(0, len(val_list)):\n",
    "        if(ch in val_list[i]):\n",
    "            #print(val_list.index(val_list[i]))\n",
    "            #print(key_list[val_list.index(val_list[i])])\n",
    "            return(key_list[val_list.index(val_list[i])])\n"
   ]
  },
  {
   "cell_type": "code",
   "execution_count": 5,
   "metadata": {},
   "outputs": [],
   "source": [
    "#function namer(reout, num) with two mandatory arguments \n",
    "\n",
    "def namer(reout, num):\n",
    "    \n",
    "    #flag is used to find when the second wave of babynames (girl names) start\n",
    "    flag = 0\n",
    "    \n",
    "    #iterating over a list reout, with i as iterator; since reout is a list of strings, every i value will be a string\n",
    "    \n",
    "    for i in reout:\n",
    "        \n",
    "        #assigning sliced i to a temp value; i is being sliced from the end of '>' character till the end and thus, we find index of '>' using i.find('>')\n",
    "        #string slicing and list slicing work similar; list[3:5] returns the values in index 3 and 4; list[3:] returns all elements in index from 3 to 'end of list'\n",
    "        \n",
    "        temp = i[int(i.find('>'))+1:]\n",
    "        \n",
    "        #temp.lower() is used to convert the names to lower case; remember in dict1, we only have keys assigned to lower case letters\n",
    "        \n",
    "        temp = temp.lower()\n",
    "        \n",
    "        #flag is set to 1 once the baby names stop getting baby names starting with 'a'\n",
    "        \n",
    "        if( temp[0] != 'a' ):\n",
    "            flag = 1\n",
    "        \n",
    "        #once flag is 1, we start monitoring when the baby names temp will get the names starting from 'a' again. We break the loop, once it happens\n",
    "        \n",
    "        if( (flag == 1) and (temp[0] == 'a') ):\n",
    "            break\n",
    "        \n",
    "        #whenever the list is not broken, the names are appedned to a list 'split_list'\n",
    "        #temp.strip() trims trailing whitespaces, list() converts the string to individual digits and puts in a list eg. ['r','a','j']\n",
    "        \n",
    "        split_list.append(list(temp.strip()))\n",
    "        \n",
    "    ###################\n",
    "    #in this part of code, let's find digit summation value of the baby names\n",
    "    \n",
    "    #ret_list is used to store all baby names that satisfy the condition of digit summation being equal to number 'num'\n",
    "    \n",
    "    ret_list = []\n",
    "    \n",
    "    for i in split_list:\n",
    "        tempval = 0\n",
    "        for j in i:\n",
    "             \n",
    "            tempval = tempval+ findnum(j)\n",
    "            #print(str(j) + \" \" + str(findnum(j)) + \" \" + str(tempval))\n",
    "        \n",
    "        tempval2 = tempval\n",
    "        \n",
    "        while(tempval2>9):\n",
    "            sum_of_digits = 0\n",
    "            for digits in str(tempval2):\n",
    "                sum_of_digits = sum_of_digits + int(digits) \n",
    "            tempval2 = sum_of_digits\n",
    "        \n",
    "        if(tempval2 == num):\n",
    "\n",
    "            # \"\".join() method joins the elements in a list and returns as one string\n",
    "            ret_list.append(\"\".join(i))\n",
    "    \n",
    "    return ret_list\n",
    "    "
   ]
  },
  {
   "cell_type": "code",
   "execution_count": 6,
   "metadata": {},
   "outputs": [
    {
     "name": "stdout",
     "output_type": "stream",
     "text": [
      "1: ['chirag', 'devansh', 'dhruv', 'divit', 'himmat', 'hridaan', 'ivan', 'jivin', 'taimur', 'tejas', 'vihaan']\n",
      "2: ['advik', 'arnav', 'badal', 'bhavin', 'krish', 'manikya', 'miraan', 'priyansh', 'rohan', 'shayak', 'shlok', 'umang', 'vaibhav', 'vidur']\n",
      "3: ['aayush', 'armaan', 'divyansh', 'ehsaan', 'farhan', 'gatik', 'gokul', 'pranay', 'raghav', 'raunak', 'yakshit', 'yuvaan']\n",
      "4: ['akarsh', 'fateh', 'indrajit', 'kanav', 'madhav', 'purab', 'romil', 'ryan', 'sahil', 'sumer']\n",
      "5: ['aarush', 'anay', 'azad', 'dhanuk', 'faiyaz', 'hansh', 'hiran', 'jayesh', 'kabir', 'lakshay', 'mehul', 'nakul', 'onkar', 'veer', 'zain']\n",
      "6: ['nishith', 'prerak', 'tushar', 'vivaan', 'zeeshan']\n",
      "7: ['aarav', 'aniruddh', 'arhaan', 'darshit', 'ishaan', 'kartik', 'nirvaan', 'riaan', 'samar', 'shaan', 'shamik', 'stuvan', 'uthkarsh', 'yuvraj']\n",
      "8: ['abram', 'hunar', 'jayant', 'lagan', 'lakshit', 'ranbir', 'ritvik', 'samarth', 'shalv', 'shray']\n",
      "9: ['divij', 'emir', 'indranil', 'kiaan', 'madhup', 'ojas', 'reyansh', 'saksham', 'taran']\n"
     ]
    }
   ],
   "source": [
    "#print all baby names according to the number that they satisfy\n",
    "for i in range(1,10):\n",
    "    print(str(i),end = \": \")\n",
    "    print(namer(reout,i))\n",
    "\n",
    "#print to a file 'out.txt', the names that satisfy the number given; here it is 6\n",
    "with open(\"out.txt\",\"w\") as f:\n",
    "    f.write(\",\".join(namer(reout,6)))\n"
   ]
  },
  {
   "cell_type": "markdown",
   "metadata": {},
   "source": [
    "Of course numerology is'nt sciene; but it did put up a good (fun) real word use case for us to try our hands on lists, dictionaries, list methods like join, append,..\n",
    "We used for loops and while loops, knowing well which scenarios the two are used in;\n",
    "We had a glimpse of how functions are used, how to write to files;\n",
    "We understood, how temp variables and flags are set; also, we had a overview of how reuests, bs4 and re libraries work and what they are capable of!\n",
    "\n",
    "Sounder Rajendran | +91-9080910468 | emailtorsounder@gmail.com | Reach out for any queries\n",
    "\n",
    "   "
   ]
  }
 ],
 "metadata": {
  "kernelspec": {
   "display_name": "Python 3",
   "language": "python",
   "name": "python3"
  },
  "language_info": {
   "codemirror_mode": {
    "name": "ipython",
    "version": 3
   },
   "file_extension": ".py",
   "mimetype": "text/x-python",
   "name": "python",
   "nbconvert_exporter": "python",
   "pygments_lexer": "ipython3",
   "version": "3.8.3"
  }
 },
 "nbformat": 4,
 "nbformat_minor": 4
}
